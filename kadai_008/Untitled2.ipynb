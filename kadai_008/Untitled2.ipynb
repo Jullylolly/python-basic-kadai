{
  "nbformat": 4,
  "nbformat_minor": 0,
  "metadata": {
    "colab": {
      "provenance": []
    },
    "kernelspec": {
      "name": "python3",
      "display_name": "Python 3"
    },
    "language_info": {
      "name": "python"
    }
  },
  "cells": [
    {
      "cell_type": "code",
      "source": [
        "var = 15\n",
        "\n",
        "if var % 3 == 0 and var % 5 == 0:\n",
        "\n",
        "  print(\"FizzBuzz\")\n",
        "\n",
        "elif var % 3 == 0:\n",
        "  print(\"Fizz\")\n",
        "\n",
        "elif var % 5 == 0:\n",
        " print(\"Buzz\")\n",
        "\n",
        "else:\n",
        "  print(var)\n",
        "\n",
        "\n",
        "\n"
      ],
      "metadata": {
        "colab": {
          "base_uri": "https://localhost:8080/"
        },
        "id": "aQgR9x5WwlEN",
        "outputId": "c61ebf83-103f-4542-aa6c-0217c8ade97d"
      },
      "execution_count": 28,
      "outputs": [
        {
          "output_type": "stream",
          "name": "stdout",
          "text": [
            "FizzBuzz\n"
          ]
        }
      ]
    },
    {
      "cell_type": "code",
      "source": [
        "var = 10\n",
        "\n",
        "if var % 3 == 0 and var % 5 == 0:\n",
        "\n",
        "  print(\"FizzBuzz\")\n",
        "\n",
        "elif var % 3 == 0:\n",
        "  print(\"Fizz\")\n",
        "\n",
        "elif var % 5 == 0:\n",
        " print(\"Buzz\")\n",
        "\n",
        "else:\n",
        "  print(var)\n",
        "\n",
        "\n"
      ],
      "metadata": {
        "colab": {
          "base_uri": "https://localhost:8080/"
        },
        "id": "bvNET2bjzjSE",
        "outputId": "fd3302e5-0622-4d51-f772-ce49e26d5833"
      },
      "execution_count": 29,
      "outputs": [
        {
          "output_type": "stream",
          "name": "stdout",
          "text": [
            "Buzz\n"
          ]
        }
      ]
    },
    {
      "cell_type": "code",
      "source": [
        "var = 3\n",
        "\n",
        "if var % 3 == 0 and var % 5 == 0:\n",
        "\n",
        "  print(\"FizzBuzz\")\n",
        "\n",
        "elif var % 3 == 0:\n",
        "  print(\"Fizz\")\n",
        "\n",
        "elif var % 5 == 0:\n",
        " print(\"Buzz\")\n",
        "\n",
        "else:\n",
        "  print(var)\n",
        "\n",
        "\n"
      ],
      "metadata": {
        "colab": {
          "base_uri": "https://localhost:8080/"
        },
        "id": "eA9K0J5F0nps",
        "outputId": "877b53c0-def8-4c81-f3c8-0bfc11b15312"
      },
      "execution_count": 30,
      "outputs": [
        {
          "output_type": "stream",
          "name": "stdout",
          "text": [
            "Fizz\n"
          ]
        }
      ]
    },
    {
      "cell_type": "code",
      "source": [
        "var = 23\n",
        "\n",
        "if var % 3 == 0 and var % 5 == 0:\n",
        "\n",
        "  print(\"FizzBuzz\")\n",
        "\n",
        "elif var % 3 == 0:\n",
        "  print(\"Fizz\")\n",
        "\n",
        "elif var % 5 == 0:\n",
        " print(\"Buzz\")\n",
        "\n",
        "else:\n",
        "  print(var)\n",
        "\n",
        "\n"
      ],
      "metadata": {
        "colab": {
          "base_uri": "https://localhost:8080/"
        },
        "id": "Dx0DB-L40pOU",
        "outputId": "fcadc710-9a51-49f5-bbd3-24ed50b40148"
      },
      "execution_count": 31,
      "outputs": [
        {
          "output_type": "stream",
          "name": "stdout",
          "text": [
            "23\n"
          ]
        }
      ]
    },
    {
      "cell_type": "code",
      "source": [],
      "metadata": {
        "id": "oAjYuwh10qDU"
      },
      "execution_count": null,
      "outputs": []
    }
  ]
}
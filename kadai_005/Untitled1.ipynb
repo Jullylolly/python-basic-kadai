{
  "nbformat": 4,
  "nbformat_minor": 0,
  "metadata": {
    "colab": {
      "provenance": []
    },
    "kernelspec": {
      "name": "python3",
      "display_name": "Python 3"
    },
    "language_info": {
      "name": "python"
    }
  },
  "cells": [
    {
      "cell_type": "code",
      "execution_count": 5,
      "metadata": {
        "colab": {
          "base_uri": "https://localhost:8080/"
        },
        "id": "M09WRGS_LfGu",
        "outputId": "11ef5105-067a-4a55-be5f-1aff1f8287a9"
      },
      "outputs": [
        {
          "output_type": "stream",
          "name": "stdout",
          "text": [
            "75.0㎠\n"
          ]
        }
      ],
      "source": [
        "trape_area = (10+20)*5/2\n",
        "print(f\"{trape_area}㎠\")\n"
      ]
    },
    {
      "cell_type": "code",
      "source": [],
      "metadata": {
        "id": "LCszvxplL5xM"
      },
      "execution_count": null,
      "outputs": []
    }
  ]
}
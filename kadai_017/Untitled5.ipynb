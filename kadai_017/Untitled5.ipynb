{
  "cells": [
    {
      "cell_type": "code",
      "execution_count": 18,
      "metadata": {
        "colab": {
          "base_uri": "https://localhost:8080/"
        },
        "id": "byH5cLkw2Yfm",
        "outputId": "04afdd2e-bcf6-4f96-e80a-f1c83382d2bf"
      },
      "outputs": [
        {
          "name": "stdout",
          "output_type": "stream",
          "text": [
            "あいさんは大人です。\n",
            "あおさんは大人ではありません。\n",
            "みどりさんは大人です。\n",
            "あかねさんは大人です。\n",
            "ゆかりさんは大人ではありません。\n"
          ]
        }
      ],
      "source": [
        "from collections.abc import AsyncGenerator\n",
        "class Human():\n",
        "  def __init__(self,name,age) :\n",
        "    self.name = name\n",
        "    self.age = age\n",
        "\n",
        "  def check_adult(self):\n",
        "\n",
        "    if  self.age >= 20:\n",
        "         print(f\"{self.name}さんは大人です。\")\n",
        "\n",
        "    else:\n",
        "      print(f\"{self.name}さんは大人ではありません。\")\n",
        "\n",
        "people = [\n",
        "          Human(\"あい\",20),\n",
        "          Human(\"あお\",15),\n",
        "          Human(\"みどり\",25),\n",
        "          Human(\"あかね\",30),\n",
        "          Human(\"ゆかり\",10),\n",
        "\n",
        "                ]\n",
        "\n",
        "for person in people:\n",
        "  person.check_adult()\n",
        "\n",
        "\n",
        "\n",
        "\n",
        "\n",
        "\n",
        "\n",
        "\n"
      ]
    },
    {
      "cell_type": "code",
      "execution_count": null,
      "metadata": {
        "id": "ewesu5FyAsrE"
      },
      "outputs": [],
      "source": []
    }
  ],
  "metadata": {
    "colab": {
      "provenance": []
    },
    "kernelspec": {
      "display_name": "Python 3",
      "name": "python3"
    },
    "language_info": {
      "name": "python"
    }
  },
  "nbformat": 4,
  "nbformat_minor": 0
}

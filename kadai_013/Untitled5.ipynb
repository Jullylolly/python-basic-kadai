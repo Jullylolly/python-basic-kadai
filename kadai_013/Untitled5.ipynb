{
  "nbformat": 4,
  "nbformat_minor": 0,
  "metadata": {
    "colab": {
      "provenance": []
    },
    "kernelspec": {
      "name": "python3",
      "display_name": "Python 3"
    },
    "language_info": {
      "name": "python"
    }
  },
  "cells": [
    {
      "cell_type": "code",
      "execution_count": null,
      "metadata": {
        "id": "fg9ZpBN6vqec"
      },
      "outputs": [],
      "source": [
        "def calculate_total(price: int, tax_rate: int) -> int:\n",
        "    return int(price * (1 + tax_rate / 100))\n",
        "\n",
        "total_price = calculate_total(110, 10)\n",
        "print(total_price)  # → 121\n"
      ]
    }
  ]
}